{
  "nbformat": 4,
  "nbformat_minor": 0,
  "metadata": {
    "colab": {
      "provenance": [],
      "authorship_tag": "ABX9TyMtVO/VlpF89aeuFtWWjpnx",
      "include_colab_link": true
    },
    "kernelspec": {
      "name": "python3",
      "display_name": "Python 3"
    },
    "language_info": {
      "name": "python"
    }
  },
  "cells": [
    {
      "cell_type": "markdown",
      "metadata": {
        "id": "view-in-github",
        "colab_type": "text"
      },
      "source": [
        "<a href=\"https://colab.research.google.com/github/codeskavy/VirtualTryon/blob/main/Vton.ipynb\" target=\"_parent\"><img src=\"https://colab.research.google.com/assets/colab-badge.svg\" alt=\"Open In Colab\"/></a>"
      ]
    },
    {
      "cell_type": "markdown",
      "source": [
        "MOUNTING THE GOOGLE DRIVE"
      ],
      "metadata": {
        "id": "UJxivGPzNmBT"
      }
    },
    {
      "cell_type": "code",
      "execution_count": 1,
      "metadata": {
        "colab": {
          "base_uri": "https://localhost:8080/"
        },
        "id": "fC_QSSugNdAg",
        "outputId": "b64c2a65-396d-4ff7-cd7b-e1aaae13b0b8"
      },
      "outputs": [
        {
          "output_type": "stream",
          "name": "stdout",
          "text": [
            "Mounted at /content/drive\n"
          ]
        }
      ],
      "source": [
        "from google.colab import drive\n",
        "drive.mount('/content/drive')"
      ]
    },
    {
      "cell_type": "code",
      "source": [
        "drive_path = \"/content/drive/My Drive\""
      ],
      "metadata": {
        "id": "ArXk9i2VPUZA"
      },
      "execution_count": 15,
      "outputs": []
    },
    {
      "cell_type": "markdown",
      "source": [
        "INSTALL LIBRARIES"
      ],
      "metadata": {
        "id": "lbTaxzHlPlpB"
      }
    },
    {
      "cell_type": "code",
      "source": [
        "!pip3 install numpy"
      ],
      "metadata": {
        "colab": {
          "base_uri": "https://localhost:8080/"
        },
        "id": "IoIFIUtHPDnz",
        "outputId": "2c31bf53-6671-45dd-9138-fe87fb9bc8d5"
      },
      "execution_count": 3,
      "outputs": [
        {
          "output_type": "stream",
          "name": "stdout",
          "text": [
            "Requirement already satisfied: numpy in /usr/local/lib/python3.10/dist-packages (1.25.2)\n"
          ]
        }
      ]
    },
    {
      "cell_type": "markdown",
      "source": [
        "IMPORT"
      ],
      "metadata": {
        "id": "e4gBIVzIPrdC"
      }
    },
    {
      "cell_type": "code",
      "source": [
        "import os\n",
        "import numpy as np\n",
        "import cv2\n",
        "from glob import glob\n",
        "import tensorflow as tf\n",
        "from tensorflow.keras.layers import Conv2D,BatchNormalization,Activation,MaxPool2D,Conv2DTranspose,Concatenate,Input\n",
        "from tensorflow.keras.models import Model\n",
        "from tensorflow.keras.callbacks import EarlyStopping,ModelCheckpoint,ReduceLROnPlateau,CSVLogger\n"
      ],
      "metadata": {
        "id": "Hha_J0XTPsus"
      },
      "execution_count": 4,
      "outputs": []
    },
    {
      "cell_type": "markdown",
      "source": [
        "SEEDING"
      ],
      "metadata": {
        "id": "6xtIEBCmQ8RH"
      }
    },
    {
      "cell_type": "code",
      "source": [
        "os.environ[\"PYTHONHASHSEED\"]=str(42)\n",
        "np.random.seed(42)\n",
        "tf.random.set_seed(42)\n"
      ],
      "metadata": {
        "id": "tcpgMxKtQ9yi"
      },
      "execution_count": 5,
      "outputs": []
    },
    {
      "cell_type": "markdown",
      "source": [
        "HYPERPARAMETERS"
      ],
      "metadata": {
        "id": "_06dwOA3RZ3_"
      }
    },
    {
      "cell_type": "code",
      "source": [
        "batch_size=4\n",
        "lr=1e-4 ##0.0001\n",
        "epochs=100\n",
        "height=768\n",
        "width=512"
      ],
      "metadata": {
        "id": "btxlhIbsRb9B"
      },
      "execution_count": 14,
      "outputs": []
    },
    {
      "cell_type": "markdown",
      "source": [
        "PATH"
      ],
      "metadata": {
        "id": "EnjDrW_qRkuL"
      }
    },
    {
      "cell_type": "code",
      "source": [
        "dataset_path = os.path.join(drive_path, \"Colab Notebooks\", \"dataset\")\n",
        "\n",
        "files_dir = os.path.join(drive_path, \"Colab Notebooks\", \"files\")\n",
        "model_file = os.path.join(files_dir, \"unet-data.h5\")\n",
        "log_file = os.path.join(files_dir, \"log-data.csv\")\n"
      ],
      "metadata": {
        "id": "QN_jW05JRlZr"
      },
      "execution_count": 13,
      "outputs": []
    },
    {
      "cell_type": "markdown",
      "source": [
        "CREATING FOLDER"
      ],
      "metadata": {
        "id": "lSrhGP_58DZR"
      }
    },
    {
      "cell_type": "code",
      "source": [
        "def create_dir(path):\n",
        "    if not os.path.exists(path):\n",
        "      os.makedirs(path)"
      ],
      "metadata": {
        "id": "g9ISpOO58FFi"
      },
      "execution_count": 8,
      "outputs": []
    },
    {
      "cell_type": "code",
      "source": [
        "create_dir(files_dir)"
      ],
      "metadata": {
        "id": "KfLGzvwe8ViR"
      },
      "execution_count": 9,
      "outputs": []
    },
    {
      "cell_type": "markdown",
      "source": [
        "BUILDING UNET"
      ],
      "metadata": {
        "id": "Lp1g_6HF8fof"
      }
    },
    {
      "cell_type": "markdown",
      "source": [
        "CONV BLOCK"
      ],
      "metadata": {
        "id": "C3dRs4RH8jho"
      }
    },
    {
      "cell_type": "code",
      "source": [
        "def conv_block(inputs,num_filters):\n",
        "    x=Conv2D(num_filters,3,padding=\"same\")(inputs)\n",
        "    x=BatchNormalization()(x)\n",
        "    x=Activation(\"relu\")(x)\n",
        "\n",
        "    x=Conv2D(num_filters,3,padding=\"same\")(x)\n",
        "    x=BatchNormalization()(x)\n",
        "    x=Activation(\"relu\")(x)\n",
        "\n",
        "    return x"
      ],
      "metadata": {
        "id": "5tVT4LBG8l5I"
      },
      "execution_count": 10,
      "outputs": []
    },
    {
      "cell_type": "markdown",
      "source": [
        "ENCODER BLOCK"
      ],
      "metadata": {
        "id": "xWmKDVAC9jhk"
      }
    },
    {
      "cell_type": "code",
      "source": [
        "def encoder_block(inputs,num_filters):\n",
        "  x=conv_block(inputs,num_filters)\n",
        "  p=MaxPool2D((2,2))(x)\n",
        "  return x,p"
      ],
      "metadata": {
        "id": "T74Nq2q49mUD"
      },
      "execution_count": 11,
      "outputs": []
    },
    {
      "cell_type": "markdown",
      "source": [
        "DECODER BLOCK"
      ],
      "metadata": {
        "id": "GIl4JXts96Fq"
      }
    },
    {
      "cell_type": "code",
      "source": [
        "def decoder_block(inputs,skip,num_filters):\n",
        "  x=Conv2DTranspose(num_filters,(2,2),strides=2,padding=\"same\")(inputs)\n",
        "  x=Concatenate()([x,skip])\n",
        "  x=conv_block(x,num_filters)\n",
        "  return x"
      ],
      "metadata": {
        "id": "SJ41S9ak98o7"
      },
      "execution_count": 16,
      "outputs": []
    },
    {
      "cell_type": "markdown",
      "source": [
        "UNET"
      ],
      "metadata": {
        "id": "EFOVohI1B4Hl"
      }
    },
    {
      "cell_type": "code",
      "source": [
        "def build_unet(input_shape):\n",
        "  inputs=Input(input_shape)\n",
        "\n",
        "  #Encoder\n",
        "  s1,p1=encoder_block(inputs,64)\n",
        "  s2,p2=encoder_block(p1,128)\n",
        "  s3,p3=encoder_block(p2,256)\n",
        "  s4,p4=encoder_block(p3,512)\n",
        "\n",
        "  #bridge\n",
        "  b1=conv_block(p4,1024)\n",
        "\n",
        "  #decoder\n",
        "  d1=decoder_block(b1,s4,512)\n",
        "  d2=decoder_block(d1,s3,256)\n",
        "  d3=decoder_block(d2,s2,128)\n",
        "  d4=decoder_block(d3,s1,64)\n",
        "\n",
        "  outputs=Conv2D(1,1,padding=\"same\",activation=\"sigmoid\")(d4)\n",
        "\n",
        "  model=Model(inputs,outputs,name=\"UNET\")\n",
        "  return model"
      ],
      "metadata": {
        "id": "GmtErO_zB01-"
      },
      "execution_count": 17,
      "outputs": []
    }
  ]
}